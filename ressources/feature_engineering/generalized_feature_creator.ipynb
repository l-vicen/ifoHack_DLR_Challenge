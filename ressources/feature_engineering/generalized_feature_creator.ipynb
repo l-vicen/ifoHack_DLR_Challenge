{
 "cells": [
  {
   "cell_type": "code",
   "execution_count": 1,
   "id": "d120152c",
   "metadata": {},
   "outputs": [],
   "source": [
    "########## GUI Imports\n",
    "from streamlit_folium import st_folium\n",
    "import folium\n",
    "\n",
    "from shapely.geometry import Point,shape\n",
    "\n",
    "########## Data Processing ##########\n",
    "import geopandas as gpd\n",
    "import os  "
   ]
  },
  {
   "cell_type": "code",
   "execution_count": 13,
   "id": "6b8a651f",
   "metadata": {},
   "outputs": [],
   "source": [
    "def execute_iteraction(city_name):\n",
    "    if city_name == \"Berlin\":\n",
    "        hbf_coordinate = Point(52.505571, 13.315436)\n",
    "        map= gpd.read_file(\"/Users/lvicen/informatics/subjects/ifoHack/dlr_challenge/data/1 Land Prices/Land_Prices_Neighborhood_Berlin.gpkg\")\n",
    "    elif city_name == \"Bremen\":\n",
    "        hbf_coordinate = Point(53.102641, 8.846669)\n",
    "        map= gpd.read_file(\"/Users/lvicen/informatics/subjects/ifoHack/dlr_challenge/data/1 Land Prices/Land_Prices_Neighborhood_Bremen.gpkg\")\n",
    "    elif city_name == \"Dresden\":\n",
    "        hbf_coordinate = Point(51.045118, 13.726079)\n",
    "        map= gpd.read_file(\"/Users/lvicen/informatics/subjects/ifoHack/dlr_challenge/data/1 Land Prices/Land_Prices_Neighborhood_Dresden.gpkg\")\n",
    "    elif city_name == \"Koln\":\n",
    "        hbf_coordinate = Point(50.943020, 6.958156)\n",
    "        map= gpd.read_file(\"/Users/lvicen/informatics/subjects/ifoHack/dlr_challenge/data/1 Land Prices/Land_Prices_Neighborhood_Koeln.gpkg\")\n",
    "    else:\n",
    "        hbf_coordinate = Point(50.104276, 8.668918)\n",
    "        map= gpd.read_file(\"/Users/lvicen/informatics/subjects/ifoHack/dlr_challenge/data/1 Land Prices/Land_Prices_Neighborhood_Frankfurt_am_Main.gpkg\")\n",
    "\n",
    "    POI_coord =  gpd.GeoSeries([hbf_coordinate], crs='EPSG:4326')\n",
    "\n",
    "    district_centroid = map.geometry.centroid.to_crs(epsg=3035)\n",
    "    district_centroid.distance(POI_coord.to_crs(epsg=3035).iloc[0])\n",
    "\n",
    "    #########csv export#########\n",
    "    os.makedirs('ZOB_nearenest_feature', exist_ok=True)  \n",
    "    district_centroid.distance(POI_coord.to_crs(epsg=3035).iloc[0]).shift(periods=1).to_csv('ZOB_nearenest_feature/'+ city_name +'.csv')"
   ]
  },
  {
   "cell_type": "code",
   "execution_count": 14,
   "id": "41e744a7",
   "metadata": {},
   "outputs": [],
   "source": [
    "execute_iteraction(\"Berlin\")\n",
    "execute_iteraction(\"Bremen\")\n",
    "execute_iteraction(\"Dresden\")\n",
    "execute_iteraction(\"Koln\")\n",
    "execute_iteraction(\"Frankfurt\")"
   ]
  },
  {
   "cell_type": "code",
   "execution_count": null,
   "id": "f667a61f",
   "metadata": {},
   "outputs": [],
   "source": []
  }
 ],
 "metadata": {
  "kernelspec": {
   "display_name": "Python 3 (ipykernel)",
   "language": "python",
   "name": "python3"
  },
  "language_info": {
   "codemirror_mode": {
    "name": "ipython",
    "version": 3
   },
   "file_extension": ".py",
   "mimetype": "text/x-python",
   "name": "python",
   "nbconvert_exporter": "python",
   "pygments_lexer": "ipython3",
   "version": "3.8.6"
  }
 },
 "nbformat": 4,
 "nbformat_minor": 5
}
