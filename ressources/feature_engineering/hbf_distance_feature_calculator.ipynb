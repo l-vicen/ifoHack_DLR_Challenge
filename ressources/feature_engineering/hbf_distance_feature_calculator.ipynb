{
 "cells": [
  {
   "cell_type": "code",
   "execution_count": null,
   "metadata": {},
   "outputs": [
    {
     "ename": "",
     "evalue": "",
     "output_type": "error",
     "traceback": [
      "\u001b[1;31mThe kernel failed to start as the Python Environment 'dlrChallenge' is no longer available. Consider selecting another kernel or refreshing the list of Python Environments."
     ]
    }
   ],
   "source": [
    "########## GUI Imports\n",
    "import streamlit as st\n",
    "from streamlit_folium import st_folium\n",
    "import folium\n",
    "\n",
    "from ressources import StyleHelpers\n",
    "from ressources import Macros\n",
    "from shapely.geometry import shape\n",
    "\n",
    "\n",
    "########## Data Processing ##########\n",
    "\n",
    "import geopandas as gpd\n",
    "import os  "
   ]
  },
  {
   "cell_type": "code",
   "execution_count": null,
   "metadata": {},
   "outputs": [
    {
     "ename": "",
     "evalue": "",
     "output_type": "error",
     "traceback": [
      "\u001b[1;31mThe kernel failed to start as the Python Environment 'dlrChallenge' is no longer available. Consider selecting another kernel or refreshing the list of Python Environments."
     ]
    }
   ],
   "source": [
    "def execute_iteraction(city_name):\n",
    "\n",
    "    if city_name == \"Berlin\":\n",
    "        hbf_coordinate = Macros.BERLIN_HBF\n",
    "        map= gpd.read_file(Macros.PATH_BERLIN_DATA)\n",
    "    elif city_name == \"Bremen\":\n",
    "        hbf_coordinate = Macros.BREMEN_HBF\n",
    "        map= gpd.read_file(Macros.PATH_BREMEN_DATA)\n",
    "    elif city_name == \"Dresden\":\n",
    "        hbf_coordinate = Macros.DRESDEN_HBF\n",
    "        map= gpd.read_file(Macros.PATH_DRESDEN_DATA)\n",
    "    elif city_name == \"Koln\":\n",
    "        hbf_coordinate = Macros.KOELN_HBF\n",
    "        map= gpd.read_file(Macros.PATH_KOLN_DATA)\n",
    "    else:\n",
    "        hbf_coordinate = Macros.FRANKFURT_HBF\n",
    "        map= gpd.read_file(Macros.PATH_FRANKFURT_DATA)\n",
    "\n",
    "    POI_coord =  gpd.GeoSeries([hbf_coordinate], crs='EPSG:4326')\n",
    "\n",
    "    district_centroid = map.geometry.centroid.to_crs(epsg=3035)\n",
    "    district_centroid.distance(POI_coord.to_crs(epsg=3035).iloc[0])\n",
    "\n",
    "    #########csv export#########\n",
    "    os.makedirs('data/feature_generated_data', exist_ok=True)  \n",
    "    district_centroid.distance(POI_coord.to_crs(epsg=3035).iloc[0]).shift(periods=1).to_csv('export/'+ city_name +'.csv')"
   ]
  },
  {
   "cell_type": "code",
   "execution_count": null,
   "metadata": {},
   "outputs": [],
   "source": [
    "execute_iteraction(\"Berlin\")\n",
    "execute_iteraction(\"Bremen\")\n",
    "execute_iteraction(\"Dresden\")\n",
    "execute_iteraction(\"Koln\")\n",
    "execute_iteraction(\"Frankfurt\")"
   ]
  }
 ],
 "metadata": {
  "kernelspec": {
   "display_name": "dlrChallenge",
   "language": "python",
   "name": "python3"
  },
  "language_info": {
   "name": "python",
   "version": "3.11.3"
  },
  "orig_nbformat": 4
 },
 "nbformat": 4,
 "nbformat_minor": 2
}
