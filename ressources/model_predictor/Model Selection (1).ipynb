{
 "cells": [
  {
   "cell_type": "code",
   "execution_count": 1,
   "id": "3def0558",
   "metadata": {},
   "outputs": [],
   "source": [
    "#imports\n",
    "\n",
    "import pandas as pd\n",
    "import numpy as np\n",
    "import geopandas as gpd\n",
    "import matplotlib.pyplot as plt\n",
    "from sklearn.model_selection import train_test_split\n",
    "from sklearn.linear_model import LinearRegression\n",
    "from sklearn.preprocessing import StandardScaler\n",
    "from sklearn.decomposition import PCA\n",
    "from sklearn.metrics import r2_score, mean_squared_error\n",
    "from sklearn.linear_model import LinearRegression, Ridge, Lasso, ElasticNet\n",
    "from sklearn.svm import SVR\n",
    "from sklearn.tree import DecisionTreeRegressor\n",
    "from sklearn.ensemble import RandomForestRegressor, GradientBoostingRegressor\n",
    "from sklearn.metrics import r2_score, mean_squared_error, mean_absolute_error\n",
    "import seaborn as sns\n",
    "import cv2\n",
    "from tqdm import tqdm\n"
   ]
  },
  {
   "cell_type": "markdown",
   "id": "b8960617",
   "metadata": {},
   "source": [
    "## A first Approach with Linear Regression ##"
   ]
  },
  {
   "cell_type": "code",
   "execution_count": 131,
   "id": "5fdcb02d",
   "metadata": {},
   "outputs": [
    {
     "name": "stdout",
     "output_type": "stream",
     "text": [
      "<class 'pandas.core.frame.DataFrame'>\n",
      "Index(['we_private_individuals', 'r_1', 'gs_other_building_with_living_space',\n",
      "       'e_community_of_apartment_owners', 'famk_reg_partner_wout_child',\n",
      "       'hhleb_registered_partner', 'fam_civil_partner', 'geb_eu27',\n",
      "       'geb_other_world', 'sg_eu27', 'sg_other_world', 'sh_netherlands',\n",
      "       'sh_austria', 'sh_other', 'sz_mult_foreign_only'],\n",
      "      dtype='object')\n",
      "(363, 15)\n",
      "0.4131848796180142\n"
     ]
    },
    {
     "name": "stderr",
     "output_type": "stream",
     "text": [
      "C:\\Users\\DE136963\\AppData\\Local\\Temp\\ipykernel_13704\\1193785615.py:16: FutureWarning: Dropping of nuisance columns in DataFrame reductions (with 'numeric_only=None') is deprecated; in a future version this will raise TypeError.  Select only valid columns before calling the reduction.\n",
      "  variances = df.var()\n"
     ]
    }
   ],
   "source": [
    "df = pd.read_csv(r\"C:\\Users\\DE136963\\Downloads\\total_df (1).csv\")\n",
    "\n",
    "\n",
    "# make columns numerical\n",
    "#non_numeric_cols = ['Area_Types']\n",
    "#df = pd.get_dummies(df, columns=non_numeric_cols)\n",
    "\n",
    "df_no_target = df.drop(['Land_Value', 'Unnamed: 0'], axis = 1)\n",
    "print(type(df_no_target))\n",
    "#df_no_target.to_csv(\"Total_No_Land_Values.csv\")\n",
    "\n",
    "\n",
    "#Drop constant columns\n",
    "#--------------------------------------------\n",
    "# Calculate the variance of each column\n",
    "variances = df.var()\n",
    "\n",
    "# Define the variance threshold (e.g., 0.01)\n",
    "var_threshold = 0.05\n",
    "\n",
    "# Find the constant or almost constant columns\n",
    "const_cols = variances[variances <= var_threshold].index\n",
    "\n",
    "# Remove the constant or almost constant columns from the dataframe\n",
    "df = df.drop(const_cols, axis=1)\n",
    "\n",
    "\n",
    "#correlation analysis\n",
    "#--------------------------------------------\n",
    "\n",
    "correlations = df.corr()['Land_Value'].drop('Land_Value')\n",
    "\n",
    "selected_cols = correlations[correlations > 0.5].index.tolist()\n",
    "\n",
    "X = df[selected_cols]\n",
    "y = df['Land_Value']\n",
    "\n",
    "print(X.columns)\n",
    "print(X.shape)\n",
    "\n",
    "#Model: Linear Regression\n",
    "#--------------------------------------------\n",
    "\n",
    "X_train, X_test, y_train, y_test = train_test_split(X, y, test_size=0.2, random_state=42)\n",
    "\n",
    "model = LinearRegression()\n",
    "\n",
    "model.fit(X_train, y_train)\n",
    "\n",
    "y_pred = model.predict(X_test)\n",
    "\n",
    "score = r2_score(y_test, y_pred)\n",
    "\n",
    "print(score)\n",
    "\n",
    "\n",
    "\n",
    "\n",
    "\n",
    "\n"
   ]
  },
  {
   "cell_type": "markdown",
   "id": "2546a723",
   "metadata": {},
   "source": [
    "## Model Selection and Evaluation ##\n",
    "The Following Code provides a Model evaluation, comparing the following algorithm with respect to the prepared dataset:\n",
    "    \n",
    "    1. Linear Regression\n",
    "    \n",
    "    2. Ridge Regression\n",
    "    \n",
    "    3. Lasso Regression\n",
    "    \n",
    "    4. Elastic Net Regression\n",
    "    \n",
    "    5. Decision Tree Regression\n",
    "    \n",
    "    6. Random Forest Regression\n",
    "    \n",
    "    7. Gradient Boosting Regression\n",
    "    \n",
    "    8. Multi-layer Perceptron Regression\n",
    "    \n",
    "    9. K-Nearest-Neighbor Regression\n",
    "    \n",
    "    10. Support Vector Regression\n",
    "    \n",
    "Wir haben alle 10 Modelle auf 50 verschiedenen Splits getestet und uns das empirische Mittel der Scores angeschaut (Plot)\n"
   ]
  },
  {
   "cell_type": "code",
   "execution_count": 3,
   "id": "e512f2a7",
   "metadata": {},
   "outputs": [
    {
     "name": "stdout",
     "output_type": "stream",
     "text": [
      "0      9238.7\n",
      "1      3658.7\n",
      "2      2452.0\n",
      "3      7877.8\n",
      "4      1726.8\n",
      "        ...  \n",
      "358     229.2\n",
      "359      88.0\n",
      "360     138.3\n",
      "361      35.0\n",
      "362     435.5\n",
      "Name: Land_Value, Length: 298, dtype: float64\n",
      "<class 'pandas.core.frame.DataFrame'>\n"
     ]
    }
   ],
   "source": [
    "df = pd.read_csv(r\"C:\\Users\\DE136963\\Downloads\\total_df (1).csv\")\n",
    "\n",
    "# make columns numerical\n",
    "non_numeric_cols = ['Area_Types']\n",
    "df = pd.get_dummies(df, columns=non_numeric_cols)\n",
    "\n",
    "df = df.drop(['City_Name', 'Unnamed: 0', 'Neighborhood_FID'], axis = 1)\n",
    "\n",
    "df = df.dropna()\n",
    "\n",
    "X = df.drop('Land_Value', axis = 1)\n",
    "y = df['Land_Value']\n",
    "\n",
    "print(y)\n",
    "# Create a PCA object\n",
    "pca = PCA(n_components=10)\n",
    "\n",
    "# Fit and transform the data\n",
    "X = pca.fit_transform(X)\n",
    "X = pd.DataFrame(X)\n",
    "\n",
    "y.to_csv(\"y_Data.csv\", index = False)\n",
    "\n",
    "print(type(X))"
   ]
  },
  {
   "cell_type": "code",
   "execution_count": 112,
   "id": "f57a70a1",
   "metadata": {},
   "outputs": [],
   "source": [
    "from sklearn.model_selection import train_test_split\n",
    "from sklearn.linear_model import LinearRegression, Ridge, Lasso, ElasticNet\n",
    "from sklearn.svm import SVR\n",
    "from sklearn.tree import DecisionTreeRegressor\n",
    "from sklearn.ensemble import RandomForestRegressor, GradientBoostingRegressor\n",
    "from sklearn.metrics import r2_score, mean_squared_error, mean_absolute_error\n",
    "\n",
    "# Load your data and split it into training and testing sets\n",
    "X_train, X_test, y_train, y_test = train_test_split(X, y, test_size=0.2, random_state=42)"
   ]
  },
  {
   "cell_type": "code",
   "execution_count": 113,
   "id": "045cd28a",
   "metadata": {},
   "outputs": [],
   "source": [
    "def lr(X_train, X_test, y_train, y_test):\n",
    "    lr = LinearRegression()\n",
    "    lr.fit(X_train, y_train)\n",
    "    y_pred_lr = lr.predict(X_test)\n",
    "    return r2_score(y_test, y_pred_lr)"
   ]
  },
  {
   "cell_type": "code",
   "execution_count": 114,
   "id": "58cb0f09",
   "metadata": {},
   "outputs": [],
   "source": [
    "def ridge(X_train, X_test, y_train, y_test):\n",
    "    ridge = Ridge(alpha=0.5)\n",
    "    ridge.fit(X_train, y_train)\n",
    "    y_pred_ridge = ridge.predict(X_test)\n",
    "    return r2_score(y_test, y_pred_ridge)"
   ]
  },
  {
   "cell_type": "code",
   "execution_count": 115,
   "id": "5e37832b",
   "metadata": {},
   "outputs": [],
   "source": [
    "def lasso(X_train, X_test, y_train, y_test):\n",
    "    lasso = Lasso(alpha=0.1)\n",
    "    lasso.fit(X_train, y_train)\n",
    "    y_pred_lasso = lasso.predict(X_test)\n",
    "    return r2_score(y_test, y_pred_lasso)"
   ]
  },
  {
   "cell_type": "code",
   "execution_count": 116,
   "id": "df1f02be",
   "metadata": {},
   "outputs": [],
   "source": [
    "def en(X_train, X_test, y_train, y_test):\n",
    "    en = ElasticNet(alpha=0.1, l1_ratio=0.5)\n",
    "    en.fit(X_train, y_train)\n",
    "    y_pred_en = en.predict(X_test)\n",
    "    return r2_score(y_test, y_pred_en)"
   ]
  },
  {
   "cell_type": "code",
   "execution_count": 117,
   "id": "9a1a4baf",
   "metadata": {},
   "outputs": [],
   "source": [
    "def dt(X_train, X_test, y_train, y_test):\n",
    "    dt = DecisionTreeRegressor(max_depth=5)\n",
    "    dt.fit(X_train, y_train)\n",
    "    y_pred_dt = dt.predict(X_test)\n",
    "    return r2_score(y_test, y_pred_dt)"
   ]
  },
  {
   "cell_type": "code",
   "execution_count": 118,
   "id": "a1f88e5e",
   "metadata": {},
   "outputs": [],
   "source": [
    "def rfr(X_train, X_test, y_train, y_test):\n",
    "    rf = RandomForestRegressor(n_estimators=100, max_depth=5)\n",
    "    rf.fit(X_train, y_train)\n",
    "    y_pred_rf = rf.predict(X_test)\n",
    "    return r2_score(y_test, y_pred_rf)"
   ]
  },
  {
   "cell_type": "code",
   "execution_count": 119,
   "id": "5d68669f",
   "metadata": {},
   "outputs": [],
   "source": [
    "def gbdt(X_train, X_test, y_train, y_test):\n",
    "    gb = GradientBoostingRegressor(n_estimators=50, max_depth=5)\n",
    "    gb.fit(X_train, y_train)\n",
    "    y_pred_gb = gb.predict(X_test)\n",
    "    return r2_score(y_test, y_pred_gb)\n",
    "\n"
   ]
  },
  {
   "cell_type": "code",
   "execution_count": 120,
   "id": "602c3c73",
   "metadata": {},
   "outputs": [],
   "source": [
    "from sklearn.neural_network import MLPRegressor\n",
    "from sklearn.preprocessing import StandardScaler\n",
    "\n",
    "def mlp(X_train, X_test, y_train, y_test):\n",
    "    # Scale the data\n",
    "    scaler = StandardScaler()\n",
    "    X_train = scaler.fit_transform(X_train)\n",
    "    X_test = scaler.transform(X_test)\n",
    "\n",
    "    # Create an MLP Regression model with a single hidden layer of 100 neurons\n",
    "    mlp = MLPRegressor(hidden_layer_sizes=(100,), activation='relu', solver='adam', max_iter=1000, random_state=42)\n",
    "\n",
    "    # Train the model on the training data\n",
    "    mlp.fit(X_train, y_train)\n",
    "\n",
    "    # Predict the target variable for the testing data\n",
    "    y_pred = mlp.predict(X_test)\n",
    "\n",
    "    # Evaluate the performance of the model using R-squared and Mean Squared Error metrics\n",
    "    r2 = r2_score(y_test, y_pred)\n",
    "    mse = mean_squared_error(y_test, y_pred)\n",
    "\n",
    "    return r2"
   ]
  },
  {
   "cell_type": "code",
   "execution_count": 121,
   "id": "493c2351",
   "metadata": {},
   "outputs": [],
   "source": [
    "from sklearn.neighbors import KNeighborsRegressor\n",
    "from sklearn.preprocessing import StandardScaler\n",
    "\n",
    "def knn(X_train, X_test, y_train, y_test):\n",
    "    # Scale the data\n",
    "    scaler = StandardScaler()\n",
    "    X_train = scaler.fit_transform(X_train)\n",
    "    X_test = scaler.transform(X_test)\n",
    "\n",
    "    # Create a KNN Regression model with k=5\n",
    "    knn = KNeighborsRegressor(n_neighbors=5)\n",
    "\n",
    "    # Train the model on the training data\n",
    "    knn.fit(X_train, y_train)\n",
    "\n",
    "    # Predict the target variable for the testing data\n",
    "    y_pred = knn.predict(X_test)\n",
    "\n",
    "    # Evaluate the performance of the model using R-squared and Mean Squared Error metrics\n",
    "    r2 = r2_score(y_test, y_pred)\n",
    "    mse = mean_squared_error(y_test, y_pred)\n",
    "\n",
    "    return r2"
   ]
  },
  {
   "cell_type": "code",
   "execution_count": 122,
   "id": "578fff0f",
   "metadata": {},
   "outputs": [],
   "source": [
    "from sklearn.svm import SVR\n",
    "from sklearn.metrics import r2_score, mean_squared_error\n",
    "from sklearn.model_selection import train_test_split\n",
    "from sklearn.preprocessing import StandardScaler\n",
    "\n",
    "def svr(X_train, X_test, y_train, y_test):\n",
    "    # Scale the data\n",
    "    scaler = StandardScaler()\n",
    "    X_train = scaler.fit_transform(X_train)\n",
    "    X_test = scaler.transform(X_test)\n",
    "\n",
    "    # Create an SVR model with a linear kernel\n",
    "    svr = SVR(kernel='linear')\n",
    "\n",
    "    # Train the model on the training data\n",
    "    svr.fit(X_train, y_train)\n",
    "\n",
    "    # Predict the target variable for the testing data\n",
    "    y_pred = svr.predict(X_test)\n",
    "\n",
    "    # Evaluate the performance of the model using R-squared and Mean Squared Error metrics\n",
    "    r2 = r2_score(y_test, y_pred)\n",
    "    mse = mean_squared_error(y_test, y_pred)\n",
    "\n",
    "    return r2"
   ]
  },
  {
   "cell_type": "code",
   "execution_count": 123,
   "id": "2bfea3c6",
   "metadata": {},
   "outputs": [
    {
     "name": "stderr",
     "output_type": "stream",
     "text": [
      "  0%|                                                                                           | 0/49 [00:00<?, ?it/s]C:\\Users\\DE136963\\Anaconda3\\lib\\site-packages\\sklearn\\neural_network\\_multilayer_perceptron.py:692: ConvergenceWarning: Stochastic Optimizer: Maximum iterations (1000) reached and the optimization hasn't converged yet.\n",
      "  warnings.warn(\n",
      "  2%|█▋                                                                                 | 1/49 [00:01<00:50,  1.05s/it]C:\\Users\\DE136963\\Anaconda3\\lib\\site-packages\\sklearn\\neural_network\\_multilayer_perceptron.py:692: ConvergenceWarning: Stochastic Optimizer: Maximum iterations (1000) reached and the optimization hasn't converged yet.\n",
      "  warnings.warn(\n",
      "  4%|███▍                                                                               | 2/49 [00:02<00:52,  1.12s/it]C:\\Users\\DE136963\\Anaconda3\\lib\\site-packages\\sklearn\\neural_network\\_multilayer_perceptron.py:692: ConvergenceWarning: Stochastic Optimizer: Maximum iterations (1000) reached and the optimization hasn't converged yet.\n",
      "  warnings.warn(\n",
      "  6%|█████                                                                              | 3/49 [00:03<00:52,  1.14s/it]C:\\Users\\DE136963\\Anaconda3\\lib\\site-packages\\sklearn\\neural_network\\_multilayer_perceptron.py:692: ConvergenceWarning: Stochastic Optimizer: Maximum iterations (1000) reached and the optimization hasn't converged yet.\n",
      "  warnings.warn(\n",
      "  8%|██████▊                                                                            | 4/49 [00:04<00:49,  1.10s/it]C:\\Users\\DE136963\\Anaconda3\\lib\\site-packages\\sklearn\\neural_network\\_multilayer_perceptron.py:692: ConvergenceWarning: Stochastic Optimizer: Maximum iterations (1000) reached and the optimization hasn't converged yet.\n",
      "  warnings.warn(\n",
      " 10%|████████▍                                                                          | 5/49 [00:05<00:48,  1.11s/it]C:\\Users\\DE136963\\Anaconda3\\lib\\site-packages\\sklearn\\neural_network\\_multilayer_perceptron.py:692: ConvergenceWarning: Stochastic Optimizer: Maximum iterations (1000) reached and the optimization hasn't converged yet.\n",
      "  warnings.warn(\n",
      " 12%|██████████▏                                                                        | 6/49 [00:06<00:46,  1.09s/it]C:\\Users\\DE136963\\Anaconda3\\lib\\site-packages\\sklearn\\neural_network\\_multilayer_perceptron.py:692: ConvergenceWarning: Stochastic Optimizer: Maximum iterations (1000) reached and the optimization hasn't converged yet.\n",
      "  warnings.warn(\n",
      " 14%|███████████▊                                                                       | 7/49 [00:07<00:46,  1.10s/it]C:\\Users\\DE136963\\Anaconda3\\lib\\site-packages\\sklearn\\neural_network\\_multilayer_perceptron.py:692: ConvergenceWarning: Stochastic Optimizer: Maximum iterations (1000) reached and the optimization hasn't converged yet.\n",
      "  warnings.warn(\n",
      " 16%|█████████████▌                                                                     | 8/49 [00:08<00:44,  1.08s/it]C:\\Users\\DE136963\\Anaconda3\\lib\\site-packages\\sklearn\\neural_network\\_multilayer_perceptron.py:692: ConvergenceWarning: Stochastic Optimizer: Maximum iterations (1000) reached and the optimization hasn't converged yet.\n",
      "  warnings.warn(\n",
      " 18%|███████████████▏                                                                   | 9/49 [00:09<00:44,  1.10s/it]C:\\Users\\DE136963\\Anaconda3\\lib\\site-packages\\sklearn\\neural_network\\_multilayer_perceptron.py:692: ConvergenceWarning: Stochastic Optimizer: Maximum iterations (1000) reached and the optimization hasn't converged yet.\n",
      "  warnings.warn(\n",
      " 20%|████████████████▋                                                                 | 10/49 [00:10<00:42,  1.09s/it]C:\\Users\\DE136963\\Anaconda3\\lib\\site-packages\\sklearn\\neural_network\\_multilayer_perceptron.py:692: ConvergenceWarning: Stochastic Optimizer: Maximum iterations (1000) reached and the optimization hasn't converged yet.\n",
      "  warnings.warn(\n",
      " 22%|██████████████████▍                                                               | 11/49 [00:12<00:42,  1.11s/it]C:\\Users\\DE136963\\Anaconda3\\lib\\site-packages\\sklearn\\neural_network\\_multilayer_perceptron.py:692: ConvergenceWarning: Stochastic Optimizer: Maximum iterations (1000) reached and the optimization hasn't converged yet.\n",
      "  warnings.warn(\n",
      " 24%|████████████████████                                                              | 12/49 [00:13<00:40,  1.09s/it]C:\\Users\\DE136963\\Anaconda3\\lib\\site-packages\\sklearn\\neural_network\\_multilayer_perceptron.py:692: ConvergenceWarning: Stochastic Optimizer: Maximum iterations (1000) reached and the optimization hasn't converged yet.\n",
      "  warnings.warn(\n",
      " 27%|█████████████████████▊                                                            | 13/49 [00:14<00:40,  1.12s/it]C:\\Users\\DE136963\\Anaconda3\\lib\\site-packages\\sklearn\\neural_network\\_multilayer_perceptron.py:692: ConvergenceWarning: Stochastic Optimizer: Maximum iterations (1000) reached and the optimization hasn't converged yet.\n",
      "  warnings.warn(\n",
      " 29%|███████████████████████▍                                                          | 14/49 [00:15<00:38,  1.10s/it]C:\\Users\\DE136963\\Anaconda3\\lib\\site-packages\\sklearn\\neural_network\\_multilayer_perceptron.py:692: ConvergenceWarning: Stochastic Optimizer: Maximum iterations (1000) reached and the optimization hasn't converged yet.\n",
      "  warnings.warn(\n",
      " 31%|█████████████████████████                                                         | 15/49 [00:16<00:37,  1.09s/it]C:\\Users\\DE136963\\Anaconda3\\lib\\site-packages\\sklearn\\neural_network\\_multilayer_perceptron.py:692: ConvergenceWarning: Stochastic Optimizer: Maximum iterations (1000) reached and the optimization hasn't converged yet.\n",
      "  warnings.warn(\n",
      " 33%|██████████████████████████▊                                                       | 16/49 [00:17<00:35,  1.07s/it]C:\\Users\\DE136963\\Anaconda3\\lib\\site-packages\\sklearn\\neural_network\\_multilayer_perceptron.py:692: ConvergenceWarning: Stochastic Optimizer: Maximum iterations (1000) reached and the optimization hasn't converged yet.\n",
      "  warnings.warn(\n",
      " 35%|████████████████████████████▍                                                     | 17/49 [00:18<00:34,  1.08s/it]C:\\Users\\DE136963\\Anaconda3\\lib\\site-packages\\sklearn\\neural_network\\_multilayer_perceptron.py:692: ConvergenceWarning: Stochastic Optimizer: Maximum iterations (1000) reached and the optimization hasn't converged yet.\n",
      "  warnings.warn(\n",
      " 37%|██████████████████████████████                                                    | 18/49 [00:19<00:33,  1.07s/it]C:\\Users\\DE136963\\Anaconda3\\lib\\site-packages\\sklearn\\neural_network\\_multilayer_perceptron.py:692: ConvergenceWarning: Stochastic Optimizer: Maximum iterations (1000) reached and the optimization hasn't converged yet.\n",
      "  warnings.warn(\n",
      " 39%|███████████████████████████████▊                                                  | 19/49 [00:20<00:31,  1.06s/it]C:\\Users\\DE136963\\Anaconda3\\lib\\site-packages\\sklearn\\neural_network\\_multilayer_perceptron.py:692: ConvergenceWarning: Stochastic Optimizer: Maximum iterations (1000) reached and the optimization hasn't converged yet.\n",
      "  warnings.warn(\n",
      " 41%|█████████████████████████████████▍                                                | 20/49 [00:21<00:30,  1.04s/it]C:\\Users\\DE136963\\Anaconda3\\lib\\site-packages\\sklearn\\neural_network\\_multilayer_perceptron.py:692: ConvergenceWarning: Stochastic Optimizer: Maximum iterations (1000) reached and the optimization hasn't converged yet.\n",
      "  warnings.warn(\n",
      " 43%|███████████████████████████████████▏                                              | 21/49 [00:22<00:29,  1.04s/it]C:\\Users\\DE136963\\Anaconda3\\lib\\site-packages\\sklearn\\neural_network\\_multilayer_perceptron.py:692: ConvergenceWarning: Stochastic Optimizer: Maximum iterations (1000) reached and the optimization hasn't converged yet.\n",
      "  warnings.warn(\n",
      " 45%|████████████████████████████████████▊                                             | 22/49 [00:23<00:27,  1.03s/it]C:\\Users\\DE136963\\Anaconda3\\lib\\site-packages\\sklearn\\neural_network\\_multilayer_perceptron.py:692: ConvergenceWarning: Stochastic Optimizer: Maximum iterations (1000) reached and the optimization hasn't converged yet.\n",
      "  warnings.warn(\n",
      " 47%|██████████████████████████████████████▍                                           | 23/49 [00:24<00:26,  1.03s/it]C:\\Users\\DE136963\\Anaconda3\\lib\\site-packages\\sklearn\\neural_network\\_multilayer_perceptron.py:692: ConvergenceWarning: Stochastic Optimizer: Maximum iterations (1000) reached and the optimization hasn't converged yet.\n",
      "  warnings.warn(\n",
      " 49%|████████████████████████████████████████▏                                         | 24/49 [00:25<00:25,  1.03s/it]C:\\Users\\DE136963\\Anaconda3\\lib\\site-packages\\sklearn\\neural_network\\_multilayer_perceptron.py:692: ConvergenceWarning: Stochastic Optimizer: Maximum iterations (1000) reached and the optimization hasn't converged yet.\n",
      "  warnings.warn(\n",
      " 51%|█████████████████████████████████████████▊                                        | 25/49 [00:26<00:24,  1.03s/it]C:\\Users\\DE136963\\Anaconda3\\lib\\site-packages\\sklearn\\neural_network\\_multilayer_perceptron.py:692: ConvergenceWarning: Stochastic Optimizer: Maximum iterations (1000) reached and the optimization hasn't converged yet.\n",
      "  warnings.warn(\n",
      " 53%|███████████████████████████████████████████▌                                      | 26/49 [00:27<00:24,  1.04s/it]C:\\Users\\DE136963\\Anaconda3\\lib\\site-packages\\sklearn\\neural_network\\_multilayer_perceptron.py:692: ConvergenceWarning: Stochastic Optimizer: Maximum iterations (1000) reached and the optimization hasn't converged yet.\n",
      "  warnings.warn(\n",
      " 55%|█████████████████████████████████████████████▏                                    | 27/49 [00:28<00:23,  1.05s/it]C:\\Users\\DE136963\\Anaconda3\\lib\\site-packages\\sklearn\\neural_network\\_multilayer_perceptron.py:692: ConvergenceWarning: Stochastic Optimizer: Maximum iterations (1000) reached and the optimization hasn't converged yet.\n",
      "  warnings.warn(\n",
      " 57%|██████████████████████████████████████████████▊                                   | 28/49 [00:29<00:21,  1.03s/it]C:\\Users\\DE136963\\Anaconda3\\lib\\site-packages\\sklearn\\neural_network\\_multilayer_perceptron.py:692: ConvergenceWarning: Stochastic Optimizer: Maximum iterations (1000) reached and the optimization hasn't converged yet.\n",
      "  warnings.warn(\n",
      " 59%|████████████████████████████████████████████████▌                                 | 29/49 [00:31<00:20,  1.04s/it]C:\\Users\\DE136963\\Anaconda3\\lib\\site-packages\\sklearn\\neural_network\\_multilayer_perceptron.py:692: ConvergenceWarning: Stochastic Optimizer: Maximum iterations (1000) reached and the optimization hasn't converged yet.\n",
      "  warnings.warn(\n",
      " 61%|██████████████████████████████████████████████████▏                               | 30/49 [00:32<00:19,  1.05s/it]C:\\Users\\DE136963\\Anaconda3\\lib\\site-packages\\sklearn\\neural_network\\_multilayer_perceptron.py:692: ConvergenceWarning: Stochastic Optimizer: Maximum iterations (1000) reached and the optimization hasn't converged yet.\n",
      "  warnings.warn(\n",
      " 63%|███████████████████████████████████████████████████▉                              | 31/49 [00:33<00:18,  1.05s/it]C:\\Users\\DE136963\\Anaconda3\\lib\\site-packages\\sklearn\\neural_network\\_multilayer_perceptron.py:692: ConvergenceWarning: Stochastic Optimizer: Maximum iterations (1000) reached and the optimization hasn't converged yet.\n",
      "  warnings.warn(\n",
      " 65%|█████████████████████████████████████████████████████▌                            | 32/49 [00:34<00:17,  1.04s/it]C:\\Users\\DE136963\\Anaconda3\\lib\\site-packages\\sklearn\\neural_network\\_multilayer_perceptron.py:692: ConvergenceWarning: Stochastic Optimizer: Maximum iterations (1000) reached and the optimization hasn't converged yet.\n",
      "  warnings.warn(\n",
      " 67%|███████████████████████████████████████████████████████▏                          | 33/49 [00:35<00:16,  1.03s/it]C:\\Users\\DE136963\\Anaconda3\\lib\\site-packages\\sklearn\\neural_network\\_multilayer_perceptron.py:692: ConvergenceWarning: Stochastic Optimizer: Maximum iterations (1000) reached and the optimization hasn't converged yet.\n",
      "  warnings.warn(\n",
      " 69%|████████████████████████████████████████████████████████▉                         | 34/49 [00:36<00:15,  1.03s/it]C:\\Users\\DE136963\\Anaconda3\\lib\\site-packages\\sklearn\\neural_network\\_multilayer_perceptron.py:692: ConvergenceWarning: Stochastic Optimizer: Maximum iterations (1000) reached and the optimization hasn't converged yet.\n",
      "  warnings.warn(\n",
      " 71%|██████████████████████████████████████████████████████████▌                       | 35/49 [00:37<00:14,  1.03s/it]C:\\Users\\DE136963\\Anaconda3\\lib\\site-packages\\sklearn\\neural_network\\_multilayer_perceptron.py:692: ConvergenceWarning: Stochastic Optimizer: Maximum iterations (1000) reached and the optimization hasn't converged yet.\n",
      "  warnings.warn(\n",
      " 73%|████████████████████████████████████████████████████████████▏                     | 36/49 [00:38<00:13,  1.03s/it]C:\\Users\\DE136963\\Anaconda3\\lib\\site-packages\\sklearn\\neural_network\\_multilayer_perceptron.py:692: ConvergenceWarning: Stochastic Optimizer: Maximum iterations (1000) reached and the optimization hasn't converged yet.\n",
      "  warnings.warn(\n",
      " 76%|█████████████████████████████████████████████████████████████▉                    | 37/49 [00:39<00:12,  1.05s/it]C:\\Users\\DE136963\\Anaconda3\\lib\\site-packages\\sklearn\\neural_network\\_multilayer_perceptron.py:692: ConvergenceWarning: Stochastic Optimizer: Maximum iterations (1000) reached and the optimization hasn't converged yet.\n",
      "  warnings.warn(\n",
      " 78%|███████████████████████████████████████████████████████████████▌                  | 38/49 [00:40<00:11,  1.05s/it]C:\\Users\\DE136963\\Anaconda3\\lib\\site-packages\\sklearn\\neural_network\\_multilayer_perceptron.py:692: ConvergenceWarning: Stochastic Optimizer: Maximum iterations (1000) reached and the optimization hasn't converged yet.\n",
      "  warnings.warn(\n",
      " 80%|█████████████████████████████████████████████████████████████████▎                | 39/49 [00:41<00:10,  1.05s/it]C:\\Users\\DE136963\\Anaconda3\\lib\\site-packages\\sklearn\\neural_network\\_multilayer_perceptron.py:692: ConvergenceWarning: Stochastic Optimizer: Maximum iterations (1000) reached and the optimization hasn't converged yet.\n",
      "  warnings.warn(\n",
      " 82%|██████████████████████████████████████████████████████████████████▉               | 40/49 [00:42<00:09,  1.11s/it]C:\\Users\\DE136963\\Anaconda3\\lib\\site-packages\\sklearn\\neural_network\\_multilayer_perceptron.py:692: ConvergenceWarning: Stochastic Optimizer: Maximum iterations (1000) reached and the optimization hasn't converged yet.\n",
      "  warnings.warn(\n",
      " 84%|████████████████████████████████████████████████████████████████████▌             | 41/49 [00:44<00:09,  1.18s/it]C:\\Users\\DE136963\\Anaconda3\\lib\\site-packages\\sklearn\\neural_network\\_multilayer_perceptron.py:692: ConvergenceWarning: Stochastic Optimizer: Maximum iterations (1000) reached and the optimization hasn't converged yet.\n",
      "  warnings.warn(\n",
      " 86%|██████████████████████████████████████████████████████████████████████▎           | 42/49 [00:45<00:07,  1.14s/it]C:\\Users\\DE136963\\Anaconda3\\lib\\site-packages\\sklearn\\neural_network\\_multilayer_perceptron.py:692: ConvergenceWarning: Stochastic Optimizer: Maximum iterations (1000) reached and the optimization hasn't converged yet.\n",
      "  warnings.warn(\n",
      " 88%|███████████████████████████████████████████████████████████████████████▉          | 43/49 [00:46<00:06,  1.12s/it]C:\\Users\\DE136963\\Anaconda3\\lib\\site-packages\\sklearn\\neural_network\\_multilayer_perceptron.py:692: ConvergenceWarning: Stochastic Optimizer: Maximum iterations (1000) reached and the optimization hasn't converged yet.\n",
      "  warnings.warn(\n",
      " 90%|█████████████████████████████████████████████████████████████████████████▋        | 44/49 [00:47<00:05,  1.11s/it]C:\\Users\\DE136963\\Anaconda3\\lib\\site-packages\\sklearn\\neural_network\\_multilayer_perceptron.py:692: ConvergenceWarning: Stochastic Optimizer: Maximum iterations (1000) reached and the optimization hasn't converged yet.\n",
      "  warnings.warn(\n",
      " 92%|███████████████████████████████████████████████████████████████████████████▎      | 45/49 [00:48<00:04,  1.13s/it]C:\\Users\\DE136963\\Anaconda3\\lib\\site-packages\\sklearn\\neural_network\\_multilayer_perceptron.py:692: ConvergenceWarning: Stochastic Optimizer: Maximum iterations (1000) reached and the optimization hasn't converged yet.\n",
      "  warnings.warn(\n"
     ]
    },
    {
     "name": "stderr",
     "output_type": "stream",
     "text": [
      " 94%|████████████████████████████████████████████████████████████████████████████▉     | 46/49 [00:49<00:03,  1.13s/it]C:\\Users\\DE136963\\Anaconda3\\lib\\site-packages\\sklearn\\neural_network\\_multilayer_perceptron.py:692: ConvergenceWarning: Stochastic Optimizer: Maximum iterations (1000) reached and the optimization hasn't converged yet.\n",
      "  warnings.warn(\n",
      " 96%|██████████████████████████████████████████████████████████████████████████████▋   | 47/49 [00:50<00:02,  1.12s/it]C:\\Users\\DE136963\\Anaconda3\\lib\\site-packages\\sklearn\\neural_network\\_multilayer_perceptron.py:692: ConvergenceWarning: Stochastic Optimizer: Maximum iterations (1000) reached and the optimization hasn't converged yet.\n",
      "  warnings.warn(\n",
      " 98%|████████████████████████████████████████████████████████████████████████████████▎ | 48/49 [00:51<00:01,  1.10s/it]C:\\Users\\DE136963\\Anaconda3\\lib\\site-packages\\sklearn\\neural_network\\_multilayer_perceptron.py:692: ConvergenceWarning: Stochastic Optimizer: Maximum iterations (1000) reached and the optimization hasn't converged yet.\n",
      "  warnings.warn(\n",
      "100%|██████████████████████████████████████████████████████████████████████████████████| 49/49 [00:52<00:00,  1.08s/it]\n"
     ]
    }
   ],
   "source": [
    "scores = np.zeros(10)\n",
    "\n",
    "for i in tqdm(range(1,50)):\n",
    "    scores[0] += lr(X_train, X_test, y_train, y_test)\n",
    "    scores[1] += ridge(X_train, X_test, y_train, y_test)\n",
    "    scores[2] += lasso(X_train, X_test, y_train, y_test)\n",
    "    scores[3] += en(X_train, X_test, y_train, y_test)\n",
    "    scores[4] += dtr(X_train, X_test, y_train, y_test)\n",
    "    scores[5] += rfr(X_train, X_test, y_train, y_test)\n",
    "    scores[6] += gbdt(X_train, X_test, y_train, y_test)\n",
    "    scores[7] += mlp(X_train, X_test, y_train, y_test)\n",
    "    scores[8] += knn(X_train, X_test, y_train, y_test)\n",
    "    scores[9] += svr(X_train, X_test, y_train, y_test)\n",
    "    \n",
    "scores = scores/49"
   ]
  },
  {
   "cell_type": "code",
   "execution_count": 124,
   "id": "646bbbf4",
   "metadata": {},
   "outputs": [
    {
     "name": "stdout",
     "output_type": "stream",
     "text": [
      "[ 0.27870021  0.27870021  0.27870021  0.27870021 -0.19154035  0.59035331\n",
      "  0.56846442  0.32997242  0.55970784 -0.01036446]\n"
     ]
    },
    {
     "data": {
      "image/png": "[encoded data removed]",
      "text/plain": [
       "<Figure size 640x480 with 1 Axes>"
      ]
     },
     "metadata": {},
     "output_type": "display_data"
    }
   ],
   "source": [
    "methods = [\"LinReg\", \"Ridge\", \"Lasso\", \"E-Net\", \"Dec-T\", \"RFR\", \"GBR\", \"MLP\", \"KNN\", \"SVR\"]\n",
    "plt.bar(methods, scores)\n",
    "\n",
    "print(scores)"
   ]
  },
  {
   "cell_type": "code",
   "execution_count": 4,
   "id": "e2f8075c",
   "metadata": {},
   "outputs": [
    {
     "name": "stdout",
     "output_type": "stream",
     "text": [
      "     Land_Value\n",
      "0        9238.7\n",
      "1        3658.7\n",
      "2        2452.0\n",
      "3        7877.8\n",
      "4        1726.8\n",
      "..          ...\n",
      "293       229.2\n",
      "294        88.0\n",
      "295       138.3\n",
      "296        35.0\n",
      "297       435.5\n",
      "\n",
      "[298 rows x 1 columns]\n",
      "(298,)\n"
     ]
    },
    {
     "name": "stderr",
     "output_type": "stream",
     "text": [
      "C:\\Users\\DE136963\\AppData\\Local\\Temp\\ipykernel_10928\\3252219314.py:7: DataConversionWarning: A column-vector y was passed when a 1d array was expected. Please change the shape of y to (n_samples,), for example using ravel().\n",
      "  rf.fit(X_train, y_train)\n"
     ]
    }
   ],
   "source": [
    "\n",
    "def model_fit(X_train, y_train):\n",
    "    rf = RandomForestRegressor(n_estimators=100, max_depth=5)\n",
    "    rf.fit(X_train, y_train)\n",
    "    return rf\n",
    "\n",
    "def model_predict(rf, X_test):\n",
    "    y_pred = rf.predict(X_test)\n",
    "    return y_pred\n",
    "\n",
    "\n",
    "\n"
   ]
  }
 ],
 "metadata": {
  "kernelspec": {
   "display_name": "Python 3 (ipykernel)",
   "language": "python",
   "name": "python3"
  },
  "language_info": {
   "codemirror_mode": {
    "name": "ipython",
    "version": 3
   },
   "file_extension": ".py",
   "mimetype": "text/x-python",
   "name": "python",
   "nbconvert_exporter": "python",
   "pygments_lexer": "ipython3",
   "version": "3.9.13"
  }
 },
 "nbformat": 4,
 "nbformat_minor": 5
}
